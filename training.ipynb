{
  "nbformat": 4,
  "nbformat_minor": 0,
  "metadata": {
    "colab": {
      "name": "training.ipynb",
      "provenance": [],
      "collapsed_sections": [],
      "toc_visible": true
    },
    "kernelspec": {
      "name": "python3",
      "display_name": "Python 3"
    },
    "accelerator": "GPU",
    "widgets": {
      "application/vnd.jupyter.widget-state+json": {
        "9c10cbe914f64ebca3e6ce8ed7272849": {
          "model_module": "@jupyter-widgets/controls",
          "model_name": "HBoxModel",
          "state": {
            "_view_name": "HBoxView",
            "_dom_classes": [],
            "_model_name": "HBoxModel",
            "_view_module": "@jupyter-widgets/controls",
            "_model_module_version": "1.5.0",
            "_view_count": null,
            "_view_module_version": "1.5.0",
            "box_style": "",
            "layout": "IPY_MODEL_9b976278d31b4358901cfd8b065070f4",
            "_model_module": "@jupyter-widgets/controls",
            "children": [
              "IPY_MODEL_274e1d16174641fd82e99210acab95f0",
              "IPY_MODEL_c461cc40b05b4a97917b202f698f55b1"
            ]
          }
        },
        "9b976278d31b4358901cfd8b065070f4": {
          "model_module": "@jupyter-widgets/base",
          "model_name": "LayoutModel",
          "state": {
            "_view_name": "LayoutView",
            "grid_template_rows": null,
            "right": null,
            "justify_content": null,
            "_view_module": "@jupyter-widgets/base",
            "overflow": null,
            "_model_module_version": "1.2.0",
            "_view_count": null,
            "flex_flow": null,
            "width": null,
            "min_width": null,
            "border": null,
            "align_items": null,
            "bottom": null,
            "_model_module": "@jupyter-widgets/base",
            "top": null,
            "grid_column": null,
            "overflow_y": null,
            "overflow_x": null,
            "grid_auto_flow": null,
            "grid_area": null,
            "grid_template_columns": null,
            "flex": null,
            "_model_name": "LayoutModel",
            "justify_items": null,
            "grid_row": null,
            "max_height": null,
            "align_content": null,
            "visibility": null,
            "align_self": null,
            "height": null,
            "min_height": null,
            "padding": null,
            "grid_auto_rows": null,
            "grid_gap": null,
            "max_width": null,
            "order": null,
            "_view_module_version": "1.2.0",
            "grid_template_areas": null,
            "object_position": null,
            "object_fit": null,
            "grid_auto_columns": null,
            "margin": null,
            "display": null,
            "left": null
          }
        },
        "274e1d16174641fd82e99210acab95f0": {
          "model_module": "@jupyter-widgets/controls",
          "model_name": "FloatProgressModel",
          "state": {
            "_view_name": "ProgressView",
            "style": "IPY_MODEL_6995e71d17ce4a2aaf011e70aaf4997c",
            "_dom_classes": [],
            "description": "  0%",
            "_model_name": "FloatProgressModel",
            "bar_style": "danger",
            "max": 151,
            "_view_module": "@jupyter-widgets/controls",
            "_model_module_version": "1.5.0",
            "value": 0,
            "_view_count": null,
            "_view_module_version": "1.5.0",
            "orientation": "horizontal",
            "min": 0,
            "description_tooltip": null,
            "_model_module": "@jupyter-widgets/controls",
            "layout": "IPY_MODEL_0337ef8aefa747e89762e38910d51c23"
          }
        },
        "c461cc40b05b4a97917b202f698f55b1": {
          "model_module": "@jupyter-widgets/controls",
          "model_name": "HTMLModel",
          "state": {
            "_view_name": "HTMLView",
            "style": "IPY_MODEL_2dd1c2683efb4602973c3b1568d18779",
            "_dom_classes": [],
            "description": "",
            "_model_name": "HTMLModel",
            "placeholder": "​",
            "_view_module": "@jupyter-widgets/controls",
            "_model_module_version": "1.5.0",
            "value": " 0/151 [00:11&lt;?, ?it/s]",
            "_view_count": null,
            "_view_module_version": "1.5.0",
            "description_tooltip": null,
            "_model_module": "@jupyter-widgets/controls",
            "layout": "IPY_MODEL_af1178f45584475897a950795a3e5349"
          }
        },
        "6995e71d17ce4a2aaf011e70aaf4997c": {
          "model_module": "@jupyter-widgets/controls",
          "model_name": "ProgressStyleModel",
          "state": {
            "_view_name": "StyleView",
            "_model_name": "ProgressStyleModel",
            "description_width": "initial",
            "_view_module": "@jupyter-widgets/base",
            "_model_module_version": "1.5.0",
            "_view_count": null,
            "_view_module_version": "1.2.0",
            "bar_color": null,
            "_model_module": "@jupyter-widgets/controls"
          }
        },
        "0337ef8aefa747e89762e38910d51c23": {
          "model_module": "@jupyter-widgets/base",
          "model_name": "LayoutModel",
          "state": {
            "_view_name": "LayoutView",
            "grid_template_rows": null,
            "right": null,
            "justify_content": null,
            "_view_module": "@jupyter-widgets/base",
            "overflow": null,
            "_model_module_version": "1.2.0",
            "_view_count": null,
            "flex_flow": null,
            "width": null,
            "min_width": null,
            "border": null,
            "align_items": null,
            "bottom": null,
            "_model_module": "@jupyter-widgets/base",
            "top": null,
            "grid_column": null,
            "overflow_y": null,
            "overflow_x": null,
            "grid_auto_flow": null,
            "grid_area": null,
            "grid_template_columns": null,
            "flex": null,
            "_model_name": "LayoutModel",
            "justify_items": null,
            "grid_row": null,
            "max_height": null,
            "align_content": null,
            "visibility": null,
            "align_self": null,
            "height": null,
            "min_height": null,
            "padding": null,
            "grid_auto_rows": null,
            "grid_gap": null,
            "max_width": null,
            "order": null,
            "_view_module_version": "1.2.0",
            "grid_template_areas": null,
            "object_position": null,
            "object_fit": null,
            "grid_auto_columns": null,
            "margin": null,
            "display": null,
            "left": null
          }
        },
        "2dd1c2683efb4602973c3b1568d18779": {
          "model_module": "@jupyter-widgets/controls",
          "model_name": "DescriptionStyleModel",
          "state": {
            "_view_name": "StyleView",
            "_model_name": "DescriptionStyleModel",
            "description_width": "",
            "_view_module": "@jupyter-widgets/base",
            "_model_module_version": "1.5.0",
            "_view_count": null,
            "_view_module_version": "1.2.0",
            "_model_module": "@jupyter-widgets/controls"
          }
        },
        "af1178f45584475897a950795a3e5349": {
          "model_module": "@jupyter-widgets/base",
          "model_name": "LayoutModel",
          "state": {
            "_view_name": "LayoutView",
            "grid_template_rows": null,
            "right": null,
            "justify_content": null,
            "_view_module": "@jupyter-widgets/base",
            "overflow": null,
            "_model_module_version": "1.2.0",
            "_view_count": null,
            "flex_flow": null,
            "width": null,
            "min_width": null,
            "border": null,
            "align_items": null,
            "bottom": null,
            "_model_module": "@jupyter-widgets/base",
            "top": null,
            "grid_column": null,
            "overflow_y": null,
            "overflow_x": null,
            "grid_auto_flow": null,
            "grid_area": null,
            "grid_template_columns": null,
            "flex": null,
            "_model_name": "LayoutModel",
            "justify_items": null,
            "grid_row": null,
            "max_height": null,
            "align_content": null,
            "visibility": null,
            "align_self": null,
            "height": null,
            "min_height": null,
            "padding": null,
            "grid_auto_rows": null,
            "grid_gap": null,
            "max_width": null,
            "order": null,
            "_view_module_version": "1.2.0",
            "grid_template_areas": null,
            "object_position": null,
            "object_fit": null,
            "grid_auto_columns": null,
            "margin": null,
            "display": null,
            "left": null
          }
        }
      }
    }
  },
  "cells": [
    {
      "cell_type": "code",
      "metadata": {
        "id": "Ev59nHnZ2dUq"
      },
      "source": [
        "import torch\n",
        "# import torchvision\n",
        "import cv2\n",
        "import matplotlib.pyplot as plt\n",
        "from matplotlib import cm\n",
        "import numpy as np\n",
        "import os\n",
        "import glob\n",
        "import pandas as pd\n",
        "import re\n",
        "import torch.nn.functional as F\n",
        "import pdb\n",
        "import seaborn as sns\n",
        "from plotly.subplots import make_subplots\n",
        "import plotly.graph_objects as go\n",
        "# import configparser\n",
        "from torch.utils.data import DataLoader\n",
        "from tqdm.auto import tqdm\n",
        "import scipy.io as io"
      ],
      "execution_count": 16,
      "outputs": []
    },
    {
      "cell_type": "code",
      "metadata": {
        "id": "AvDBTKhGJ4hI"
      },
      "source": [
        "! pip uninstall imgaug==0.2.9 --yes\n",
        "! pip install imgaug==0.4\n",
        "! pip install segmentation_models_pytorch\n",
        "! pip install inplace-abn"
      ],
      "execution_count": null,
      "outputs": []
    },
    {
      "cell_type": "code",
      "metadata": {
        "colab": {
          "base_uri": "https://localhost:8080/"
        },
        "id": "DsxQJifPG6Pf",
        "outputId": "de528f2a-189f-4e9b-920b-7e90801d38d4"
      },
      "source": [
        "from google.colab import drive\n",
        "drive.mount('/content/drive')\n",
        "%matplotlib inline\n",
        "os.chdir(\"/content/drive/My Drive/Colab Notebooks/clothes_segmentation/distributed_structure\")  \n",
        "# import import_ipynb\n",
        "from Dataset.dataset import data_set, get_dataloaders  #TODO: mount google drive\n",
        "from Models.models import Generator, Discriminator, weights_init\n",
        "from Utils.losses import get_gen_loss\n",
        "from config import *\n"
      ],
      "execution_count": 2,
      "outputs": [
        {
          "output_type": "stream",
          "text": [
            "Drive already mounted at /content/drive; to attempt to forcibly remount, call drive.mount(\"/content/drive\", force_remount=True).\n"
          ],
          "name": "stdout"
        }
      ]
    },
    {
      "cell_type": "code",
      "metadata": {
        "id": "WU_NpRmM2hdj"
      },
      "source": [
        "label_list = io.loadmat('./..//clothes_data/label_list.mat')\n",
        "num_of_classes = label_list['label_list'].shape[1]\n",
        "softmax = torch.nn.Softmax(dim=1)"
      ],
      "execution_count": 3,
      "outputs": []
    },
    {
      "cell_type": "markdown",
      "metadata": {
        "id": "BysiO8p__--X"
      },
      "source": [
        "###### Get configuration params:"
      ]
    },
    {
      "cell_type": "code",
      "metadata": {
        "id": "z9H4_r4Y2hNX"
      },
      "source": [
        "torch.backends.cudnn.deterministic = True\n",
        "torch.backends.cudnn.benchmark = False\n",
        "torch.manual_seed(1)\n",
        "torch.cuda.manual_seed_all(3)\n",
        "np.random.seed(2)\n",
        "device = torch.device(\"cuda:0\" if torch.cuda.is_available() else \"cpu\")"
      ],
      "execution_count": 4,
      "outputs": []
    },
    {
      "cell_type": "markdown",
      "metadata": {
        "id": "Hos4OuySGrm8"
      },
      "source": [
        "##### Get dataloaders"
      ]
    },
    {
      "cell_type": "code",
      "metadata": {
        "id": "0ZmpyAVT2jQe"
      },
      "source": [
        "train_dl, val_dl, _ = get_dataloaders(config=config)"
      ],
      "execution_count": 5,
      "outputs": []
    },
    {
      "cell_type": "markdown",
      "metadata": {
        "id": "tlNaIkEXouEx"
      },
      "source": [
        "##### Training preperation:"
      ]
    },
    {
      "cell_type": "code",
      "metadata": {
        "id": "mlWPX_t12j2u"
      },
      "source": [
        "# New parameters\n",
        "adv_criterion = torch.nn.BCEWithLogitsLoss() \n",
        "recon_criterion = torch.nn.L1Loss() \n",
        "lambda_recon = 100\n",
        "\n",
        "n_epochs = 150\n",
        "input_dim = 3\n",
        "real_dim = 3\n",
        "batch_size = 4\n",
        "lr = 0.0002\n",
        "target_shape = 256\n",
        "assert 'cuda' in device.type, \"Cuda is not working\""
      ],
      "execution_count": 9,
      "outputs": []
    },
    {
      "cell_type": "markdown",
      "metadata": {
        "id": "vGpWkbfvGwN7"
      },
      "source": [
        "##### Model:"
      ]
    },
    {
      "cell_type": "code",
      "metadata": {
        "id": "Aa9IX7pE2jdu"
      },
      "source": [
        "generator = Generator(config=config).to(device)\n",
        "discriminator = Discriminator(input_channels=6).to(device)\n",
        "\n",
        "gen_opt = torch.optim.Adam(filter(lambda p: p.requires_grad, \n",
        "                                  generator.parameters()), lr=lr)\n",
        "disc_opt = torch.optim.Adam(filter(lambda p: p.requires_grad, \n",
        "                                  discriminator.parameters()), lr=lr)\n",
        "\n",
        "gen_scheduler = torch.optim.lr_scheduler.ReduceLROnPlateau(gen_opt, 'min', patience=10)\n",
        "disc_scheduler = torch.optim.lr_scheduler.ReduceLROnPlateau(disc_opt, 'min', patience=10)"
      ],
      "execution_count": 10,
      "outputs": []
    },
    {
      "cell_type": "code",
      "metadata": {
        "id": "tm9EyJDP2jrW",
        "colab": {
          "base_uri": "https://localhost:8080/"
        },
        "outputId": "f2c7b757-1aeb-4346-a4ac-ba4720cfae24"
      },
      "source": [
        "type(train_dl)"
      ],
      "execution_count": 14,
      "outputs": [
        {
          "output_type": "execute_result",
          "data": {
            "text/plain": [
              "torch.utils.data.dataloader.DataLoader"
            ]
          },
          "metadata": {
            "tags": []
          },
          "execution_count": 14
        }
      ]
    },
    {
      "cell_type": "code",
      "metadata": {
        "id": "glmG3wB0otS2",
        "colab": {
          "base_uri": "https://localhost:8080/"
        },
        "outputId": "1eb42625-7a52-41e7-9b56-93877ae2fd61"
      },
      "source": [
        ""
      ],
      "execution_count": 16,
      "outputs": [
        {
          "output_type": "execute_result",
          "data": {
            "text/plain": [
              "device(type='cpu')"
            ]
          },
          "metadata": {
            "tags": []
          },
          "execution_count": 16
        }
      ]
    },
    {
      "cell_type": "code",
      "metadata": {
        "id": "lbw9whdp2kA8"
      },
      "source": [
        ""
      ],
      "execution_count": null,
      "outputs": []
    },
    {
      "cell_type": "markdown",
      "metadata": {
        "id": "ydy393NPu1qA"
      },
      "source": [
        "##### Training:"
      ]
    },
    {
      "cell_type": "code",
      "metadata": {
        "id": "qHvRqayE5o_7"
      },
      "source": [
        "def save_gen_model_checkpoint(model, epoch, output_path, best=False):\n",
        "    if not os.path.isdir(output_path):\n",
        "      os.makedirs(os.path.join(output_path,'Disc'))\n",
        "    if best:\n",
        "        previous_best_pt = glob.glob(os.path.join(output_path, '*GEN*BEST.pt'))\n",
        "        if len(previous_best_pt) > 0:\n",
        "            os.remove(previous_best_pt[0])\n",
        "        name = os.path.join(output_path, 'Model_GEN_stateDict__Epoch={}__BEST.pt'.format(epoch))\n",
        "    else:\n",
        "        name = os.path.join(output_path, 'Model_GEN_stateDict__Epoch={}.pt'.format(epoch))\n",
        "    torch.save(model.state_dict(), os.path.join(output_path, name))\n",
        "\n",
        "def save_disc_model_checkpoint(model, epoch, output_path, best=False):\n",
        "    if not os.path.isdir(output_path):\n",
        "      os.makedirs(os.path.join(output_path,'Disc'))\n",
        "    if best:\n",
        "        previous_best_pt = glob.glob(os.path.join(output_path, '*DISC*BEST.pt'))\n",
        "        if len(previous_best_pt) > 0:\n",
        "            os.remove(previous_best_pt[0])\n",
        "        name = os.path.join(output_path, 'Model_DISC_stateDict__Epoch={}__BEST.pt'.format(epoch))\n",
        "    else:\n",
        "        name = os.path.join(output_path, 'Model_DISC_stateDict__Epoch={}.pt'.format(epoch))\n",
        "    torch.save(model.state_dict(), os.path.join(output_path, name))  "
      ],
      "execution_count": 11,
      "outputs": []
    },
    {
      "cell_type": "code",
      "metadata": {
        "id": "eqfBqTgK2kI3",
        "colab": {
          "base_uri": "https://localhost:8080/",
          "height": 263,
          "referenced_widgets": [
            "9c10cbe914f64ebca3e6ce8ed7272849",
            "9b976278d31b4358901cfd8b065070f4",
            "274e1d16174641fd82e99210acab95f0",
            "c461cc40b05b4a97917b202f698f55b1",
            "6995e71d17ce4a2aaf011e70aaf4997c",
            "0337ef8aefa747e89762e38910d51c23",
            "2dd1c2683efb4602973c3b1568d18779",
            "af1178f45584475897a950795a3e5349"
          ]
        },
        "outputId": "6a279380-2bdf-4f80-bc56-64eff75eb4ac"
      },
      "source": [
        "mean_generator_loss = 0\n",
        "mean_discriminator_loss = 0\n",
        "cur_step = 0\n",
        "best_gen_loss, best_disc_loss= np.inf, np.inf\n",
        "losses_list = []\n",
        "\n",
        "for epoch in range(n_epochs):\n",
        "    mean_discriminator_loss, mean_generator_loss, val_disc_loss, val_gen_loss = [0] *4\n",
        "    ### TRAIN ###\n",
        "    generator.train()\n",
        "    discriminator.train()\n",
        "    for idx, train_data in enumerate(tqdm(train_dl)):\n",
        "        origin_image, mask_gt =train_data['image'], train_data['gt_reg_map']\n",
        "        origin_image = torch.nn.functional.interpolate(origin_image, \n",
        "                                                  size=target_shape)\n",
        "        mask_gt = torch.nn.functional.interpolate(mask_gt, size=target_shape)\n",
        "        cur_batch_size = len(origin_image)\n",
        "\n",
        "        ### Update discriminator ###\n",
        "        disc_opt.zero_grad() # Zero out the gradient before backpropagation\n",
        "        with torch.no_grad():\n",
        "            fake = generator(origin_image)\n",
        "        disc_fake_hat = discriminator(fake.detach(), origin_image) # Detach generator\n",
        "        disc_fake_loss = adv_criterion(disc_fake_hat, torch.zeros_like(disc_fake_hat))\n",
        "        disc_real_hat = discriminator(mask_gt, origin_image)\n",
        "        disc_real_loss = adv_criterion(disc_real_hat, torch.ones_like(disc_real_hat))\n",
        "        disc_loss = (disc_fake_loss + disc_real_loss) / 2\n",
        "        disc_loss.backward(retain_graph=True) # Update gradients\n",
        "        disc_opt.step() # Update optimizer\n",
        "\n",
        "        ### Update generator ###\n",
        "        gen_opt.zero_grad()\n",
        "        gen_loss = get_gen_loss(generator, discriminator, mask_gt, origin_image, \n",
        "                                adv_criterion, recon_criterion, \n",
        "                                lambda_recon)\n",
        "        gen_loss.backward() # Update gradients\n",
        "        gen_opt.step() # Update optimizer\n",
        "\n",
        "        # Keep track of the average discriminator loss\n",
        "        mean_discriminator_loss += disc_loss.item() \n",
        "        # Keep track of the average generator loss\n",
        "        mean_generator_loss += gen_loss.item() \n",
        "\n",
        "    \n",
        "    ### VAL ###\n",
        "    val_batch_idx = 0\n",
        "    generator.eval()\n",
        "    discriminator.eval()\n",
        "    with torch.no_grad():\n",
        "      for val_idx, val_data in enumerate(tqdm(val_dl)):\n",
        "          origin_val_image, val_mask_gt = val_data['image'], val_data['gt_reg_map']\n",
        "          origin_val_image = torch.nn.functional.interpolate(origin_val_image, \n",
        "                                                      size=target_shape)\n",
        "          val_mask_gt = torch.nn.functional.interpolate(val_mask_gt, \n",
        "                                                  size=target_shape)\n",
        "          \n",
        "          fake = generator(origin_val_image)\n",
        "          disc_fake_hat = disc(fake.detach(), origin_val_image)\n",
        "          disc_fake_loss = adv_criterion(disc_fake_hat, torch.zeros_like(disc_fake_hat))\n",
        "          disc_real_hat = disc(val_mask_gt, origin_val_image)\n",
        "          disc_real_loss = adv_criterion(disc_real_hat, torch.ones_like(disc_real_hat))\n",
        "          disc_loss = (disc_fake_loss + disc_real_loss) / 2\n",
        "\n",
        "          gen_loss = get_gen_loss(gen, disc, mask_gt, origin_image, \n",
        "                                  adv_criterion, recon_criterion, lambda_recon)  #TODO: add IOU loss\n",
        "          \n",
        "          val_disc_loss += disc_loss.item()\n",
        "          val_gen_loss += gen_loss.item()\n",
        "\n",
        "          val_batch_idx += 1\n",
        "          \n",
        "    ## EPOCH RESULTS ##\n",
        "    losses = {'train_disc_loss': mean_discriminator_loss / idx,\n",
        "              'train_gen_loss': mean_generator_loss / idx,\n",
        "              'val_disc_loss': val_disc_loss / val_idx,\n",
        "              'val_gen_loss': val_gen_loss / val_idx}\n",
        "    losses_list.append(losses)\n",
        "    \n",
        "    if losses['val_disc_loss'] < best_disc_loss:\n",
        "      best_disc_loss = losses['val_disc_loss']\n",
        "      save_disc_model_checkpoint(model=generator, epoch=epoch, \n",
        "                                 output_path=config['Paths']['output_folder'],\n",
        "                                 best=True)\n",
        "    \n",
        "    elif epoch %10 == 0:\n",
        "      save_disc_model_checkpoint(model=generator, epoch=epoch, \n",
        "                                 output_path=config['Paths']['output_folder'],\n",
        "                                 best=False)\n",
        "      \n",
        "    if gen_scheduler and disc_scheduler is not None:\n",
        "      gen_scheduler.step(losses['val_gen_loss'])\n",
        "      disc_scheduler.step(losses['val_disc_loss'])\n",
        "\n",
        "    print(\"Epoch {}:\\n \\t train gen loss: {:.5f}, val gen loss: {:.5f},\\n \\t \\\n",
        "           train disc loss: {:.5f}, \\\n",
        "           val disc loss: {:.5f}\".format(epoch, losses['train_gen_loss'],\n",
        "                                         losses['val_gen_loss'], \n",
        "                                         losses['train_disc_loss'],\n",
        "                                         losses['val_disc_loss']))\n",
        "    \n"
      ],
      "execution_count": 17,
      "outputs": [
        {
          "output_type": "display_data",
          "data": {
            "application/vnd.jupyter.widget-view+json": {
              "model_id": "9c10cbe914f64ebca3e6ce8ed7272849",
              "version_minor": 0,
              "version_major": 2
            },
            "text/plain": [
              "HBox(children=(FloatProgress(value=0.0, max=151.0), HTML(value='')))"
            ]
          },
          "metadata": {
            "tags": []
          }
        },
        {
          "output_type": "error",
          "ename": "NameError",
          "evalue": "ignored",
          "traceback": [
            "\u001b[0;31m---------------------------------------------------------------------------\u001b[0m",
            "\u001b[0;31mNameError\u001b[0m                                 Traceback (most recent call last)",
            "\u001b[0;32m<ipython-input-17-f197be60ffe5>\u001b[0m in \u001b[0;36m<module>\u001b[0;34m()\u001b[0m\n\u001b[1;32m     11\u001b[0m     \u001b[0;32mfor\u001b[0m \u001b[0midx\u001b[0m\u001b[0;34m,\u001b[0m \u001b[0mtrain_data\u001b[0m \u001b[0;32min\u001b[0m \u001b[0menumerate\u001b[0m\u001b[0;34m(\u001b[0m\u001b[0mtqdm\u001b[0m\u001b[0;34m(\u001b[0m\u001b[0mtrain_dl\u001b[0m\u001b[0;34m)\u001b[0m\u001b[0;34m)\u001b[0m\u001b[0;34m:\u001b[0m\u001b[0;34m\u001b[0m\u001b[0;34m\u001b[0m\u001b[0m\n\u001b[1;32m     12\u001b[0m         \u001b[0morigin_image\u001b[0m\u001b[0;34m,\u001b[0m \u001b[0mmask_gt\u001b[0m \u001b[0;34m=\u001b[0m\u001b[0mtrain_data\u001b[0m\u001b[0;34m[\u001b[0m\u001b[0;34m'image'\u001b[0m\u001b[0;34m]\u001b[0m\u001b[0;34m,\u001b[0m \u001b[0mtrain_data\u001b[0m\u001b[0;34m[\u001b[0m\u001b[0;34m'gt_reg_map'\u001b[0m\u001b[0;34m]\u001b[0m\u001b[0;34m\u001b[0m\u001b[0;34m\u001b[0m\u001b[0m\n\u001b[0;32m---> 13\u001b[0;31m         origin_image = nn.functional.interpolate(origin_image, \n\u001b[0m\u001b[1;32m     14\u001b[0m                                                   size=target_shape)\n\u001b[1;32m     15\u001b[0m         \u001b[0mmask_gt\u001b[0m \u001b[0;34m=\u001b[0m \u001b[0mnn\u001b[0m\u001b[0;34m.\u001b[0m\u001b[0mfunctional\u001b[0m\u001b[0;34m.\u001b[0m\u001b[0minterpolate\u001b[0m\u001b[0;34m(\u001b[0m\u001b[0mmask_gt\u001b[0m\u001b[0;34m,\u001b[0m \u001b[0msize\u001b[0m\u001b[0;34m=\u001b[0m\u001b[0mtarget_shape\u001b[0m\u001b[0;34m)\u001b[0m\u001b[0;34m\u001b[0m\u001b[0;34m\u001b[0m\u001b[0m\n",
            "\u001b[0;31mNameError\u001b[0m: name 'nn' is not defined"
          ]
        }
      ]
    },
    {
      "cell_type": "code",
      "metadata": {
        "id": "wf9DhAXs2kQK"
      },
      "source": [
        ""
      ],
      "execution_count": null,
      "outputs": []
    },
    {
      "cell_type": "code",
      "metadata": {
        "id": "3bTi-XCe2kaE"
      },
      "source": [
        ""
      ],
      "execution_count": null,
      "outputs": []
    },
    {
      "cell_type": "code",
      "metadata": {
        "id": "altkSXQ02kkF"
      },
      "source": [
        ""
      ],
      "execution_count": null,
      "outputs": []
    },
    {
      "cell_type": "code",
      "metadata": {
        "id": "GTCXTF_m2kuN"
      },
      "source": [
        ""
      ],
      "execution_count": null,
      "outputs": []
    },
    {
      "cell_type": "code",
      "metadata": {
        "id": "SAgBF3ex2k5t"
      },
      "source": [
        ""
      ],
      "execution_count": null,
      "outputs": []
    },
    {
      "cell_type": "code",
      "metadata": {
        "id": "DimZxp6X2lEe"
      },
      "source": [
        ""
      ],
      "execution_count": null,
      "outputs": []
    }
  ]
}